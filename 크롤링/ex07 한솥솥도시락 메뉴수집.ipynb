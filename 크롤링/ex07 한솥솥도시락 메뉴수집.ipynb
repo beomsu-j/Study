{
 "cells": [
  {
   "cell_type": "code",
   "execution_count": 1,
   "id": "d18a7f2b",
   "metadata": {},
   "outputs": [],
   "source": [
    "#1 브라우저 역할을 하는 라이브러리\n",
    "from selenium import webdriver as wb\n",
    "#2. 선택자를 구분지어주는 라이브러리\n",
    "from selenium.webdriver.common.by import By\n",
    "import pandas "
   ]
  },
  {
   "cell_type": "code",
   "execution_count": 34,
   "id": "7d7f6458",
   "metadata": {},
   "outputs": [],
   "source": [
    "#1 브라우저 실행 사이트 이동\n",
    "driver=wb.Chrome()\n",
    "driver.get(\"https://www.hsd.co.kr/menu/menu_list\")"
   ]
  },
  {
   "cell_type": "markdown",
   "id": "6bd56cab",
   "metadata": {},
   "source": [
    "# 예외처리\n",
    "- try : 에러가 나기전까지 실행할 코드 작성\n",
    "- except : 에러가 낚을 때 실행할 코드를 작성\n",
    "- 주의점!\n",
    "- 데이터를 수집하는 코드에서 사용할때는 데이터가 없을 때 없다는 의미의 데이터를 꼭\n",
    "넣어줘야한다 -> 데이터의 개수를 맞추기 위해서"
   ]
  },
  {
   "cell_type": "code",
   "execution_count": 32,
   "id": "08b90fee",
   "metadata": {},
   "outputs": [],
   "source": [
    "# 사람답게 코드를 작성해야함\n",
    "# 클라이언트와 서버간에 요청과 응답사이에는 반드시 시간이 필요\n",
    "#라이브러리 -> time"
   ]
  },
  {
   "cell_type": "code",
   "execution_count": 33,
   "id": "2c4eec22",
   "metadata": {},
   "outputs": [],
   "source": [
    "import time"
   ]
  },
  {
   "cell_type": "code",
   "execution_count": 35,
   "id": "dca4e310",
   "metadata": {},
   "outputs": [
    {
     "name": "stdout",
     "output_type": "stream",
     "text": [
      "더보기가 완료 됐습니다.\n"
     ]
    }
   ],
   "source": [
    "try :\n",
    "    for i in range(50):\n",
    "        btn_more=driver.find_element(By.CSS_SELECTOR,\"#btn_more > span > a\")\n",
    "        btn_more.click()\n",
    "        time.sleep(1)\n",
    "except :\n",
    "    print('더보기가 완료 됐습니다.')"
   ]
  },
  {
   "cell_type": "code",
   "execution_count": 19,
   "id": "d29bdd20",
   "metadata": {
    "scrolled": true
   },
   "outputs": [
    {
     "ename": "ElementNotInteractableException",
     "evalue": "Message: element not interactable\n  (Session info: chrome=121.0.6167.185)\nStacktrace:\n\tGetHandleVerifier [0x00007FF7645E7012+3522402]\n\t(No symbol) [0x00007FF764208352]\n\t(No symbol) [0x00007FF7640B596D]\n\t(No symbol) [0x00007FF7640FD3C6]\n\t(No symbol) [0x00007FF7640F1910]\n\t(No symbol) [0x00007FF76411F05A]\n\t(No symbol) [0x00007FF7640F120A]\n\t(No symbol) [0x00007FF76411F270]\n\t(No symbol) [0x00007FF76413BDA3]\n\t(No symbol) [0x00007FF76411EE03]\n\t(No symbol) [0x00007FF7640EF4D4]\n\t(No symbol) [0x00007FF7640F05F1]\n\tGetHandleVerifier [0x00007FF764619B9D+3730157]\n\tGetHandleVerifier [0x00007FF76466F02D+4079485]\n\tGetHandleVerifier [0x00007FF7646675D3+4048163]\n\tGetHandleVerifier [0x00007FF76433A649+718233]\n\t(No symbol) [0x00007FF764214A3F]\n\t(No symbol) [0x00007FF76420FA94]\n\t(No symbol) [0x00007FF76420FBC2]\n\t(No symbol) [0x00007FF7641FF2E4]\n\tBaseThreadInitThunk [0x00007FFB62CF7344+20]\n\tRtlUserThreadStart [0x00007FFB636A26B1+33]\n",
     "output_type": "error",
     "traceback": [
      "\u001b[1;31m---------------------------------------------------------------------------\u001b[0m",
      "\u001b[1;31mElementNotInteractableException\u001b[0m           Traceback (most recent call last)",
      "Cell \u001b[1;32mIn[19], line 4\u001b[0m\n\u001b[0;32m      2\u001b[0m \u001b[38;5;28;01mfor\u001b[39;00m i \u001b[38;5;129;01min\u001b[39;00m \u001b[38;5;28mrange\u001b[39m(\u001b[38;5;241m50\u001b[39m):\n\u001b[0;32m      3\u001b[0m     btn_more\u001b[38;5;241m=\u001b[39mdriver\u001b[38;5;241m.\u001b[39mfind_element(By\u001b[38;5;241m.\u001b[39mCSS_SELECTOR,\u001b[38;5;124m\"\u001b[39m\u001b[38;5;124m#btn_more > span > a\u001b[39m\u001b[38;5;124m\"\u001b[39m)\n\u001b[1;32m----> 4\u001b[0m     btn_more\u001b[38;5;241m.\u001b[39mclick()\n",
      "File \u001b[1;32m~\\anaconda4\\Lib\\site-packages\\selenium\\webdriver\\remote\\webelement.py:94\u001b[0m, in \u001b[0;36mWebElement.click\u001b[1;34m(self)\u001b[0m\n\u001b[0;32m     92\u001b[0m \u001b[38;5;28;01mdef\u001b[39;00m \u001b[38;5;21mclick\u001b[39m(\u001b[38;5;28mself\u001b[39m) \u001b[38;5;241m-\u001b[39m\u001b[38;5;241m>\u001b[39m \u001b[38;5;28;01mNone\u001b[39;00m:\n\u001b[0;32m     93\u001b[0m \u001b[38;5;250m    \u001b[39m\u001b[38;5;124;03m\"\"\"Clicks the element.\"\"\"\u001b[39;00m\n\u001b[1;32m---> 94\u001b[0m     \u001b[38;5;28mself\u001b[39m\u001b[38;5;241m.\u001b[39m_execute(Command\u001b[38;5;241m.\u001b[39mCLICK_ELEMENT)\n",
      "File \u001b[1;32m~\\anaconda4\\Lib\\site-packages\\selenium\\webdriver\\remote\\webelement.py:395\u001b[0m, in \u001b[0;36mWebElement._execute\u001b[1;34m(self, command, params)\u001b[0m\n\u001b[0;32m    393\u001b[0m     params \u001b[38;5;241m=\u001b[39m {}\n\u001b[0;32m    394\u001b[0m params[\u001b[38;5;124m\"\u001b[39m\u001b[38;5;124mid\u001b[39m\u001b[38;5;124m\"\u001b[39m] \u001b[38;5;241m=\u001b[39m \u001b[38;5;28mself\u001b[39m\u001b[38;5;241m.\u001b[39m_id\n\u001b[1;32m--> 395\u001b[0m \u001b[38;5;28;01mreturn\u001b[39;00m \u001b[38;5;28mself\u001b[39m\u001b[38;5;241m.\u001b[39m_parent\u001b[38;5;241m.\u001b[39mexecute(command, params)\n",
      "File \u001b[1;32m~\\anaconda4\\Lib\\site-packages\\selenium\\webdriver\\remote\\webdriver.py:347\u001b[0m, in \u001b[0;36mWebDriver.execute\u001b[1;34m(self, driver_command, params)\u001b[0m\n\u001b[0;32m    345\u001b[0m response \u001b[38;5;241m=\u001b[39m \u001b[38;5;28mself\u001b[39m\u001b[38;5;241m.\u001b[39mcommand_executor\u001b[38;5;241m.\u001b[39mexecute(driver_command, params)\n\u001b[0;32m    346\u001b[0m \u001b[38;5;28;01mif\u001b[39;00m response:\n\u001b[1;32m--> 347\u001b[0m     \u001b[38;5;28mself\u001b[39m\u001b[38;5;241m.\u001b[39merror_handler\u001b[38;5;241m.\u001b[39mcheck_response(response)\n\u001b[0;32m    348\u001b[0m     response[\u001b[38;5;124m\"\u001b[39m\u001b[38;5;124mvalue\u001b[39m\u001b[38;5;124m\"\u001b[39m] \u001b[38;5;241m=\u001b[39m \u001b[38;5;28mself\u001b[39m\u001b[38;5;241m.\u001b[39m_unwrap_value(response\u001b[38;5;241m.\u001b[39mget(\u001b[38;5;124m\"\u001b[39m\u001b[38;5;124mvalue\u001b[39m\u001b[38;5;124m\"\u001b[39m, \u001b[38;5;28;01mNone\u001b[39;00m))\n\u001b[0;32m    349\u001b[0m     \u001b[38;5;28;01mreturn\u001b[39;00m response\n",
      "File \u001b[1;32m~\\anaconda4\\Lib\\site-packages\\selenium\\webdriver\\remote\\errorhandler.py:229\u001b[0m, in \u001b[0;36mErrorHandler.check_response\u001b[1;34m(self, response)\u001b[0m\n\u001b[0;32m    227\u001b[0m         alert_text \u001b[38;5;241m=\u001b[39m value[\u001b[38;5;124m\"\u001b[39m\u001b[38;5;124malert\u001b[39m\u001b[38;5;124m\"\u001b[39m]\u001b[38;5;241m.\u001b[39mget(\u001b[38;5;124m\"\u001b[39m\u001b[38;5;124mtext\u001b[39m\u001b[38;5;124m\"\u001b[39m)\n\u001b[0;32m    228\u001b[0m     \u001b[38;5;28;01mraise\u001b[39;00m exception_class(message, screen, stacktrace, alert_text)  \u001b[38;5;66;03m# type: ignore[call-arg]  # mypy is not smart enough here\u001b[39;00m\n\u001b[1;32m--> 229\u001b[0m \u001b[38;5;28;01mraise\u001b[39;00m exception_class(message, screen, stacktrace)\n",
      "\u001b[1;31mElementNotInteractableException\u001b[0m: Message: element not interactable\n  (Session info: chrome=121.0.6167.185)\nStacktrace:\n\tGetHandleVerifier [0x00007FF7645E7012+3522402]\n\t(No symbol) [0x00007FF764208352]\n\t(No symbol) [0x00007FF7640B596D]\n\t(No symbol) [0x00007FF7640FD3C6]\n\t(No symbol) [0x00007FF7640F1910]\n\t(No symbol) [0x00007FF76411F05A]\n\t(No symbol) [0x00007FF7640F120A]\n\t(No symbol) [0x00007FF76411F270]\n\t(No symbol) [0x00007FF76413BDA3]\n\t(No symbol) [0x00007FF76411EE03]\n\t(No symbol) [0x00007FF7640EF4D4]\n\t(No symbol) [0x00007FF7640F05F1]\n\tGetHandleVerifier [0x00007FF764619B9D+3730157]\n\tGetHandleVerifier [0x00007FF76466F02D+4079485]\n\tGetHandleVerifier [0x00007FF7646675D3+4048163]\n\tGetHandleVerifier [0x00007FF76433A649+718233]\n\t(No symbol) [0x00007FF764214A3F]\n\t(No symbol) [0x00007FF76420FA94]\n\t(No symbol) [0x00007FF76420FBC2]\n\t(No symbol) [0x00007FF7641FF2E4]\n\tBaseThreadInitThunk [0x00007FFB62CF7344+20]\n\tRtlUserThreadStart [0x00007FFB636A26B1+33]\n"
     ]
    }
   ],
   "source": [
    "# 더보기를 끝까지 누르는 코드\n",
    "# 코드가 실행되다가 에로가 나는 이유 = 더보기가 더 이상 존재하지않은 경우\n",
    "for i in range(50):\n",
    "    btn_more=driver.find_element(By.CSS_SELECTOR,\"#btn_more > span > a\")\n",
    "    btn_more.click()"
   ]
  },
  {
   "cell_type": "code",
   "execution_count": 36,
   "id": "27859d92",
   "metadata": {},
   "outputs": [],
   "source": [
    "#2 상품명 수집\n",
    "title=driver.find_elements(By.CSS_SELECTOR,\"div > div.item-text > h4\")"
   ]
  },
  {
   "cell_type": "code",
   "execution_count": 37,
   "id": "ab10d4b2",
   "metadata": {},
   "outputs": [],
   "source": [
    "#3 상품 가격 수집\n",
    "price=driver.find_elements(By.CSS_SELECTOR,\"div > div.item-text > div > strong\")"
   ]
  },
  {
   "cell_type": "code",
   "execution_count": 38,
   "id": "d8c5acd7",
   "metadata": {},
   "outputs": [
    {
     "data": {
      "text/plain": [
       "94"
      ]
     },
     "execution_count": 38,
     "metadata": {},
     "output_type": "execute_result"
    }
   ],
   "source": [
    "#길이 확인\n",
    "#데이터의 개수가 다른 이유는 창이 실행될때 창의 크기, 모니터의 크기, 네트워크 환경에 따라 다르다\n",
    "\n",
    "len(title)"
   ]
  },
  {
   "cell_type": "code",
   "execution_count": 39,
   "id": "e28929b5",
   "metadata": {},
   "outputs": [
    {
     "data": {
      "text/plain": [
       "94"
      ]
     },
     "execution_count": 39,
     "metadata": {},
     "output_type": "execute_result"
    }
   ],
   "source": [
    "len(price)"
   ]
  },
  {
   "cell_type": "code",
   "execution_count": 40,
   "id": "350fd5d8",
   "metadata": {},
   "outputs": [],
   "source": [
    "# 비어있는 리스트에 글자만 담아주는 작업\n",
    "title_list=[]\n",
    "price_list=[]\n",
    "for i in title:\n",
    "    title_list.append(i.text)\n",
    "for i in price:\n",
    "    price_list.append(i.text)"
   ]
  },
  {
   "cell_type": "code",
   "execution_count": 41,
   "id": "1c84d9cf",
   "metadata": {},
   "outputs": [],
   "source": [
    "#데이터 프레임으로 표 제작 -> 딕셔너리 형태의 데이터\n",
    "menu_info=pandas.DataFrame({\"메뉴\":title_list,\"가격\":price_list})"
   ]
  },
  {
   "cell_type": "code",
   "execution_count": 42,
   "id": "d52b0ce4",
   "metadata": {},
   "outputs": [
    {
     "data": {
      "text/html": [
       "<div>\n",
       "<style scoped>\n",
       "    .dataframe tbody tr th:only-of-type {\n",
       "        vertical-align: middle;\n",
       "    }\n",
       "\n",
       "    .dataframe tbody tr th {\n",
       "        vertical-align: top;\n",
       "    }\n",
       "\n",
       "    .dataframe thead th {\n",
       "        text-align: right;\n",
       "    }\n",
       "</style>\n",
       "<table border=\"1\" class=\"dataframe\">\n",
       "  <thead>\n",
       "    <tr style=\"text-align: right;\">\n",
       "      <th></th>\n",
       "      <th>메뉴</th>\n",
       "      <th>가격</th>\n",
       "    </tr>\n",
       "  </thead>\n",
       "  <tbody>\n",
       "    <tr>\n",
       "      <th>0</th>\n",
       "      <td>사골 조랭이떡 만둣국</td>\n",
       "      <td>5,900</td>\n",
       "    </tr>\n",
       "    <tr>\n",
       "      <th>1</th>\n",
       "      <td>한우 함박스테이크 &amp; 반달 돈까스</td>\n",
       "      <td>8,900</td>\n",
       "    </tr>\n",
       "    <tr>\n",
       "      <th>2</th>\n",
       "      <td>한우함박스테이크&amp;토네이도소세지</td>\n",
       "      <td>8,900</td>\n",
       "    </tr>\n",
       "    <tr>\n",
       "      <th>3</th>\n",
       "      <td>해바라기</td>\n",
       "      <td>10,000</td>\n",
       "    </tr>\n",
       "    <tr>\n",
       "      <th>4</th>\n",
       "      <td>매화</td>\n",
       "      <td>10,500</td>\n",
       "    </tr>\n",
       "    <tr>\n",
       "      <th>...</th>\n",
       "      <td>...</td>\n",
       "      <td>...</td>\n",
       "    </tr>\n",
       "    <tr>\n",
       "      <th>89</th>\n",
       "      <td>김치</td>\n",
       "      <td>400</td>\n",
       "    </tr>\n",
       "    <tr>\n",
       "      <th>90</th>\n",
       "      <td>무말랭이 무침</td>\n",
       "      <td>500</td>\n",
       "    </tr>\n",
       "    <tr>\n",
       "      <th>91</th>\n",
       "      <td>한솥밥</td>\n",
       "      <td>1,000</td>\n",
       "    </tr>\n",
       "    <tr>\n",
       "      <th>92</th>\n",
       "      <td>현미밥</td>\n",
       "      <td>1,700</td>\n",
       "    </tr>\n",
       "    <tr>\n",
       "      <th>93</th>\n",
       "      <td>리얼꿀 미니호떡</td>\n",
       "      <td>2,200</td>\n",
       "    </tr>\n",
       "  </tbody>\n",
       "</table>\n",
       "<p>94 rows × 2 columns</p>\n",
       "</div>"
      ],
      "text/plain": [
       "                    메뉴      가격\n",
       "0          사골 조랭이떡 만둣국   5,900\n",
       "1   한우 함박스테이크 & 반달 돈까스   8,900\n",
       "2     한우함박스테이크&토네이도소세지   8,900\n",
       "3                 해바라기  10,000\n",
       "4                   매화  10,500\n",
       "..                 ...     ...\n",
       "89                  김치     400\n",
       "90             무말랭이 무침     500\n",
       "91                 한솥밥   1,000\n",
       "92                 현미밥   1,700\n",
       "93            리얼꿀 미니호떡   2,200\n",
       "\n",
       "[94 rows x 2 columns]"
      ]
     },
     "execution_count": 42,
     "metadata": {},
     "output_type": "execute_result"
    }
   ],
   "source": [
    "menu_info"
   ]
  },
  {
   "cell_type": "code",
   "execution_count": 43,
   "id": "adc14791",
   "metadata": {},
   "outputs": [],
   "source": [
    "#한글이 깨지지않게 csv저장\n",
    "menu_info.to_csv(\"한솥메뉴.csv\",encoding=\"euc-kr\")"
   ]
  },
  {
   "cell_type": "code",
   "execution_count": null,
   "id": "98c4bbd5",
   "metadata": {},
   "outputs": [],
   "source": []
  }
 ],
 "metadata": {
  "kernelspec": {
   "display_name": "Python 3 (ipykernel)",
   "language": "python",
   "name": "python3"
  },
  "language_info": {
   "codemirror_mode": {
    "name": "ipython",
    "version": 3
   },
   "file_extension": ".py",
   "mimetype": "text/x-python",
   "name": "python",
   "nbconvert_exporter": "python",
   "pygments_lexer": "ipython3",
   "version": "3.11.5"
  }
 },
 "nbformat": 4,
 "nbformat_minor": 5
}
