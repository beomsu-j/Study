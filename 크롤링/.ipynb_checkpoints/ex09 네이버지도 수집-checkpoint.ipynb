{
 "cells": [
  {
   "cell_type": "code",
   "execution_count": 2,
   "id": "3bb50e50",
   "metadata": {},
   "outputs": [],
   "source": [
    "from selenium import webdriver as wb\n",
    "from selenium.webdriver.common.by import By\n",
    "from selenium.webdriver.common.keys import Keys\n",
    "import time"
   ]
  },
  {
   "cell_type": "code",
   "execution_count": 10,
   "id": "d2197380",
   "metadata": {},
   "outputs": [],
   "source": [
    "driver=wb.Chrome()\n",
    "driver.get(\"https://map.naver.com/p/\")"
   ]
  },
  {
   "cell_type": "code",
   "execution_count": 11,
   "id": "1e1637c1",
   "metadata": {},
   "outputs": [],
   "source": [
    "# 검색창에 동명동 맛집 검색\n",
    "# 검색창의 id가 매번 변경된다\n",
    "# id가 아닌 변하지않는 선택자가 필요하다(class)\n",
    "search=driver.find_element(By.CSS_SELECTOR,\".input_search\")\n",
    "search.send_keys(\"동명동맛집\")\n",
    "search.send_keys(Keys.ENTER)\n"
   ]
  },
  {
   "cell_type": "code",
   "execution_count": 13,
   "id": "a12f548f",
   "metadata": {},
   "outputs": [],
   "source": [
    "# 원본데이터에서 원하는 iframe데이터로 변경\n",
    "driver.switch_to.frame(\"searchIframe\")"
   ]
  },
  {
   "cell_type": "code",
   "execution_count": 14,
   "id": "fd0d2e70",
   "metadata": {},
   "outputs": [
    {
     "data": {
      "text/plain": [
       "[]"
      ]
     },
     "execution_count": 14,
     "metadata": {},
     "output_type": "execute_result"
    }
   ],
   "source": [
    "# 가게 이름 클릭 -> 디테일 정보 확인\n",
    "# 적븐이 불가능한 이유는 iframe속의 데이터이기 때문\n",
    "title=driver.find_elements(By.CSS_SELECTOR,\"#_pcmap_list_scroll_container > ul > li > div.CHC5F > a > div > div\")\n",
    "title"
   ]
  },
  {
   "cell_type": "code",
   "execution_count": 16,
   "id": "01853df2",
   "metadata": {},
   "outputs": [],
   "source": [
    "title[0].click()"
   ]
  },
  {
   "cell_type": "code",
   "execution_count": 20,
   "id": "82afa823",
   "metadata": {},
   "outputs": [],
   "source": [
    "#상세정보 페이지도 새로운 iframe이여서 접근 불가\n",
    "# i frame에서 다른 ㅑframe의 이동 불가능 -> 서로 모르는 사이이기 때문에\n",
    "# 해결책 -> 원본 데이터로 이동  -> 다시 새로운 iframe\n",
    "driver.switch_to.default_content()\n",
    "driver.switch_to.frame(\"entryIframe\")"
   ]
  },
  {
   "cell_type": "code",
   "execution_count": null,
   "id": "ad92e81b",
   "metadata": {},
   "outputs": [],
   "source": [
    "title_ditail=driver.find_element(By.CSS_SELECTOR,\"#_title > div > span.Fc1rA\")\n",
    "title_ditail"
   ]
  },
  {
   "cell_type": "code",
   "execution_count": null,
   "id": "a8bdbb3d",
   "metadata": {},
   "outputs": [],
   "source": [
    "driver.switch_to.default_content()\n",
    "driver.switch_to.frame(\"searchIframe\")\n",
    "title[1].click()"
   ]
  }
 ],
 "metadata": {
  "kernelspec": {
   "display_name": "Python 3 (ipykernel)",
   "language": "python",
   "name": "python3"
  },
  "language_info": {
   "codemirror_mode": {
    "name": "ipython",
    "version": 3
   },
   "file_extension": ".py",
   "mimetype": "text/x-python",
   "name": "python",
   "nbconvert_exporter": "python",
   "pygments_lexer": "ipython3",
   "version": "3.11.5"
  }
 },
 "nbformat": 4,
 "nbformat_minor": 5
}
