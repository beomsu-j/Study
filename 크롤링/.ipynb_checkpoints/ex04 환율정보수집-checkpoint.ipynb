{
 "cells": [
  {
   "cell_type": "code",
   "execution_count": 1,
   "id": "8cd6b77f",
   "metadata": {},
   "outputs": [],
   "source": [
    "import requests as req\n",
    "from bs4 import BeautifulSoup as bs"
   ]
  },
  {
   "cell_type": "code",
   "execution_count": 2,
   "id": "969d8eb7",
   "metadata": {},
   "outputs": [
    {
     "data": {
      "text/plain": [
       "<Response [200]>"
      ]
     },
     "execution_count": 2,
     "metadata": {},
     "output_type": "execute_result"
    }
   ],
   "source": [
    "#1 req 통해서 페에지 요청\n",
    "req.get(\"https://finance.naver.com/marketindex/?tabSel=exchange#tab_section\")"
   ]
  },
  {
   "cell_type": "code",
   "execution_count": 3,
   "id": "34cf121f",
   "metadata": {},
   "outputs": [],
   "source": [
    "res=req.get(\"https://finance.naver.com/marketindex/?tabSel=exchange#tab_section\")"
   ]
  },
  {
   "cell_type": "code",
   "execution_count": 6,
   "id": "a037a18c",
   "metadata": {},
   "outputs": [],
   "source": [
    "# 2 soup 통해 데이터 변환\n",
    "soup=bs(res.text,\"lxml\")"
   ]
  },
  {
   "cell_type": "code",
   "execution_count": 13,
   "id": "89549903",
   "metadata": {},
   "outputs": [
    {
     "data": {
      "text/plain": [
       "[]"
      ]
     },
     "execution_count": 13,
     "metadata": {},
     "output_type": "execute_result"
    }
   ],
   "source": [
    "#3 select기능 활용\n",
    "soup.select(\"body > div > table > tbody > tr:nth-child(10) > td.tit > a\")"
   ]
  },
  {
   "cell_type": "markdown",
   "id": "c02ba165",
   "metadata": {},
   "source": [
    "# iframe 태그\n",
    "- 다른 서버에 있는 html파일을 창을 통해서 보여주는 역할을 태그\n",
    "- 접근을 하기 위해서는 원본 주소로 찾아가야한다\n",
    "- 크롤링을 할 때 수집이 안되는 경우는 3가지 의심\n",
    "1) 응답코드가 200아닌경우\n",
    "2) 선택자의 오류\n",
    "3) iframe을 검사\n",
    "- 검사하는 방법 : iframe의 src부분 값을 확인\n",
    "- 1) 절대경로 -> url\n",
    "- 2) 상대경로 -> /폴더/폴더/파일\n",
    "- 3) 상대경로인 경우에는 절대경로로 변경 -> 실제 사이트의 url을 수정"
   ]
  },
  {
   "cell_type": "code",
   "execution_count": 15,
   "id": "1a2923c4",
   "metadata": {},
   "outputs": [],
   "source": [
    "res=req.get(\"https://finance.naver.com/marketindex/exchangeList.naver\")"
   ]
  },
  {
   "cell_type": "code",
   "execution_count": 17,
   "id": "2bdab50c",
   "metadata": {},
   "outputs": [],
   "source": [
    "soup=bs(res.text,\"lxml\")"
   ]
  },
  {
   "cell_type": "code",
   "execution_count": 20,
   "id": "b595149b",
   "metadata": {},
   "outputs": [],
   "source": [
    "title=soup.select(\"body > div > table > tbody > tr > td.tit > a\")"
   ]
  },
  {
   "cell_type": "code",
   "execution_count": 24,
   "id": "160fdc1d",
   "metadata": {},
   "outputs": [],
   "source": [
    "# 개행과 같은 불필요한 내용을 지우는 작업\n",
    "# text.strip()\n",
    "title_list=[]\n",
    "for i in title:\n",
    "    title_list.append(i.text.strip())"
   ]
  },
  {
   "cell_type": "code",
   "execution_count": 25,
   "id": "77225b3d",
   "metadata": {
    "collapsed": true
   },
   "outputs": [
    {
     "data": {
      "text/plain": [
       "['미국 USD',\n",
       " '유럽연합 EUR',\n",
       " '일본 JPY (100엔)',\n",
       " '중국 CNY',\n",
       " '홍콩 HKD',\n",
       " '대만 TWD',\n",
       " '영국 GBP',\n",
       " '오만 OMR',\n",
       " '캐나다 CAD',\n",
       " '스위스 CHF',\n",
       " '스웨덴 SEK',\n",
       " '호주 AUD',\n",
       " '뉴질랜드 NZD',\n",
       " '체코 CZK',\n",
       " '칠레 CLP',\n",
       " '튀르키예 TRY',\n",
       " '몽골 MNT',\n",
       " '이스라엘 ILS',\n",
       " '덴마크 DKK',\n",
       " '노르웨이 NOK',\n",
       " '사우디아라비아 SAR',\n",
       " '쿠웨이트 KWD',\n",
       " '바레인 BHD',\n",
       " '아랍에미리트 AED',\n",
       " '요르단 JOD',\n",
       " '이집트 EGP',\n",
       " '태국 THB',\n",
       " '싱가포르 SGD',\n",
       " '말레이시아 MYR',\n",
       " '인도네시아 IDR 100',\n",
       " '카타르 QAR',\n",
       " '카자흐스탄 KZT',\n",
       " '브루나이 BND',\n",
       " '인도 INR',\n",
       " '파키스탄 PKR',\n",
       " '방글라데시 BDT',\n",
       " '필리핀 PHP',\n",
       " '멕시코 MXN',\n",
       " '브라질 BRL',\n",
       " '베트남 VND 100',\n",
       " '남아프리카 공화국 ZAR',\n",
       " '러시아 RUB',\n",
       " '헝가리 HUF',\n",
       " '폴란드 PLN',\n",
       " '스리랑카 LKR',\n",
       " '알제리 DZD',\n",
       " '케냐 KES',\n",
       " '콜롬비아 COP',\n",
       " '탄자니아 TZS',\n",
       " '네팔 NPR',\n",
       " '루마니아 RON',\n",
       " '리비아 LYD',\n",
       " '마카오 MOP',\n",
       " '미얀마 MMK',\n",
       " '에티오피아 ETB',\n",
       " '우즈베키스탄 UZS',\n",
       " '캄보디아 KHR',\n",
       " '피지 FJD']"
      ]
     },
     "execution_count": 25,
     "metadata": {},
     "output_type": "execute_result"
    }
   ],
   "source": [
    "title_list"
   ]
  },
  {
   "cell_type": "code",
   "execution_count": null,
   "id": "d6bd182e",
   "metadata": {},
   "outputs": [],
   "source": []
  }
 ],
 "metadata": {
  "kernelspec": {
   "display_name": "Python 3 (ipykernel)",
   "language": "python",
   "name": "python3"
  },
  "language_info": {
   "codemirror_mode": {
    "name": "ipython",
    "version": 3
   },
   "file_extension": ".py",
   "mimetype": "text/x-python",
   "name": "python",
   "nbconvert_exporter": "python",
   "pygments_lexer": "ipython3",
   "version": "3.11.5"
  }
 },
 "nbformat": 4,
 "nbformat_minor": 5
}
