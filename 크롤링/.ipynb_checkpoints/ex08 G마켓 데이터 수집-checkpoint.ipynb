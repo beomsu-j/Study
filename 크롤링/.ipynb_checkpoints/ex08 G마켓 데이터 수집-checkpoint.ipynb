{
 "cells": [
  {
   "cell_type": "code",
   "execution_count": 2,
   "id": "9cf3ac2e",
   "metadata": {},
   "outputs": [],
   "source": [
    "from selenium import webdriver as wb\n",
    "from selenium.webdriver.common.by import By\n",
    "import time\n",
    "import pandas as pd"
   ]
  },
  {
   "cell_type": "code",
   "execution_count": 3,
   "id": "f185f7fa",
   "metadata": {},
   "outputs": [],
   "source": [
    "#1 크롬실행 쥐마켓 이동\n",
    "driver=wb.Chrome()\n",
    "driver.get(\"https://www.gmarket.co.kr/n/best\")"
   ]
  },
  {
   "cell_type": "code",
   "execution_count": 4,
   "id": "05d7695f",
   "metadata": {},
   "outputs": [],
   "source": [
    "# 상품수집\n",
    "#1 상품수집\n",
    "img=driver.find_elements(By.CSS_SELECTOR,\"#gBestWrap > div.best-list > ul > li > div.thumb > a > img\")\n",
    "img[1].click()"
   ]
  },
  {
   "cell_type": "code",
   "execution_count": 5,
   "id": "aeee45d2",
   "metadata": {},
   "outputs": [
    {
     "data": {
      "text/plain": [
       "'수퍼맘스토리카페/총 120종의 대작/보카사이언스/Visual Literacy/Talk Ablot시리즈/5주내배송'"
      ]
     },
     "execution_count": 5,
     "metadata": {},
     "output_type": "execute_result"
    }
   ],
   "source": [
    "#2 상품명 수집\n",
    "title=driver.find_element(By.CSS_SELECTOR,\"#itemcase_basic > div.box__item-title > h1\")\n",
    "title.text"
   ]
  },
  {
   "cell_type": "code",
   "execution_count": 6,
   "id": "3a4f3767",
   "metadata": {},
   "outputs": [
    {
     "ename": "NoSuchElementException",
     "evalue": "Message: no such element: Unable to locate element: {\"method\":\"css selector\",\"selector\":\"#itemcase_basic > div.box__item-title > div.price > span.price_innerwrap.price_innerwrap-coupon > strong\"}\n  (Session info: chrome=122.0.6261.69); For documentation on this error, please visit: https://www.selenium.dev/documentation/webdriver/troubleshooting/errors#no-such-element-exception\nStacktrace:\n\tGetHandleVerifier [0x00007FF6B16F4C82+3505170]\n\t(No symbol) [0x00007FF6B1320852]\n\t(No symbol) [0x00007FF6B11D4145]\n\t(No symbol) [0x00007FF6B1219ADD]\n\t(No symbol) [0x00007FF6B1219C1C]\n\t(No symbol) [0x00007FF6B125AB27]\n\t(No symbol) [0x00007FF6B123BECF]\n\t(No symbol) [0x00007FF6B12583B2]\n\t(No symbol) [0x00007FF6B123BC33]\n\t(No symbol) [0x00007FF6B120D618]\n\t(No symbol) [0x00007FF6B120E6B1]\n\tGetHandleVerifier [0x00007FF6B17267DD+3708781]\n\tGetHandleVerifier [0x00007FF6B177FC5D+4074477]\n\tGetHandleVerifier [0x00007FF6B1777DDF+4042095]\n\tGetHandleVerifier [0x00007FF6B144A136+708806]\n\t(No symbol) [0x00007FF6B132CB0F]\n\t(No symbol) [0x00007FF6B1327D14]\n\t(No symbol) [0x00007FF6B1327E6C]\n\t(No symbol) [0x00007FF6B13179A4]\n\tBaseThreadInitThunk [0x00007FF9053A7344+20]\n\tRtlUserThreadStart [0x00007FF9059A26B1+33]\n",
     "output_type": "error",
     "traceback": [
      "\u001b[1;31m---------------------------------------------------------------------------\u001b[0m",
      "\u001b[1;31mNoSuchElementException\u001b[0m                    Traceback (most recent call last)",
      "Cell \u001b[1;32mIn[6], line 2\u001b[0m\n\u001b[0;32m      1\u001b[0m \u001b[38;5;66;03m#3가격수집(쿠폰가)\u001b[39;00m\n\u001b[1;32m----> 2\u001b[0m price\u001b[38;5;241m=\u001b[39mdriver\u001b[38;5;241m.\u001b[39mfind_element(By\u001b[38;5;241m.\u001b[39mCSS_SELECTOR,\u001b[38;5;124m\"\u001b[39m\u001b[38;5;124m#itemcase_basic > div.box__item-title > div.price > span.price_innerwrap.price_innerwrap-coupon > strong\u001b[39m\u001b[38;5;124m\"\u001b[39m)\n\u001b[0;32m      3\u001b[0m price\u001b[38;5;241m.\u001b[39mtext\n",
      "File \u001b[1;32m~\\anaconda4\\Lib\\site-packages\\selenium\\webdriver\\remote\\webdriver.py:741\u001b[0m, in \u001b[0;36mWebDriver.find_element\u001b[1;34m(self, by, value)\u001b[0m\n\u001b[0;32m    738\u001b[0m     by \u001b[38;5;241m=\u001b[39m By\u001b[38;5;241m.\u001b[39mCSS_SELECTOR\n\u001b[0;32m    739\u001b[0m     value \u001b[38;5;241m=\u001b[39m \u001b[38;5;124mf\u001b[39m\u001b[38;5;124m'\u001b[39m\u001b[38;5;124m[name=\u001b[39m\u001b[38;5;124m\"\u001b[39m\u001b[38;5;132;01m{\u001b[39;00mvalue\u001b[38;5;132;01m}\u001b[39;00m\u001b[38;5;124m\"\u001b[39m\u001b[38;5;124m]\u001b[39m\u001b[38;5;124m'\u001b[39m\n\u001b[1;32m--> 741\u001b[0m \u001b[38;5;28;01mreturn\u001b[39;00m \u001b[38;5;28mself\u001b[39m\u001b[38;5;241m.\u001b[39mexecute(Command\u001b[38;5;241m.\u001b[39mFIND_ELEMENT, {\u001b[38;5;124m\"\u001b[39m\u001b[38;5;124musing\u001b[39m\u001b[38;5;124m\"\u001b[39m: by, \u001b[38;5;124m\"\u001b[39m\u001b[38;5;124mvalue\u001b[39m\u001b[38;5;124m\"\u001b[39m: value})[\u001b[38;5;124m\"\u001b[39m\u001b[38;5;124mvalue\u001b[39m\u001b[38;5;124m\"\u001b[39m]\n",
      "File \u001b[1;32m~\\anaconda4\\Lib\\site-packages\\selenium\\webdriver\\remote\\webdriver.py:347\u001b[0m, in \u001b[0;36mWebDriver.execute\u001b[1;34m(self, driver_command, params)\u001b[0m\n\u001b[0;32m    345\u001b[0m response \u001b[38;5;241m=\u001b[39m \u001b[38;5;28mself\u001b[39m\u001b[38;5;241m.\u001b[39mcommand_executor\u001b[38;5;241m.\u001b[39mexecute(driver_command, params)\n\u001b[0;32m    346\u001b[0m \u001b[38;5;28;01mif\u001b[39;00m response:\n\u001b[1;32m--> 347\u001b[0m     \u001b[38;5;28mself\u001b[39m\u001b[38;5;241m.\u001b[39merror_handler\u001b[38;5;241m.\u001b[39mcheck_response(response)\n\u001b[0;32m    348\u001b[0m     response[\u001b[38;5;124m\"\u001b[39m\u001b[38;5;124mvalue\u001b[39m\u001b[38;5;124m\"\u001b[39m] \u001b[38;5;241m=\u001b[39m \u001b[38;5;28mself\u001b[39m\u001b[38;5;241m.\u001b[39m_unwrap_value(response\u001b[38;5;241m.\u001b[39mget(\u001b[38;5;124m\"\u001b[39m\u001b[38;5;124mvalue\u001b[39m\u001b[38;5;124m\"\u001b[39m, \u001b[38;5;28;01mNone\u001b[39;00m))\n\u001b[0;32m    349\u001b[0m     \u001b[38;5;28;01mreturn\u001b[39;00m response\n",
      "File \u001b[1;32m~\\anaconda4\\Lib\\site-packages\\selenium\\webdriver\\remote\\errorhandler.py:229\u001b[0m, in \u001b[0;36mErrorHandler.check_response\u001b[1;34m(self, response)\u001b[0m\n\u001b[0;32m    227\u001b[0m         alert_text \u001b[38;5;241m=\u001b[39m value[\u001b[38;5;124m\"\u001b[39m\u001b[38;5;124malert\u001b[39m\u001b[38;5;124m\"\u001b[39m]\u001b[38;5;241m.\u001b[39mget(\u001b[38;5;124m\"\u001b[39m\u001b[38;5;124mtext\u001b[39m\u001b[38;5;124m\"\u001b[39m)\n\u001b[0;32m    228\u001b[0m     \u001b[38;5;28;01mraise\u001b[39;00m exception_class(message, screen, stacktrace, alert_text)  \u001b[38;5;66;03m# type: ignore[call-arg]  # mypy is not smart enough here\u001b[39;00m\n\u001b[1;32m--> 229\u001b[0m \u001b[38;5;28;01mraise\u001b[39;00m exception_class(message, screen, stacktrace)\n",
      "\u001b[1;31mNoSuchElementException\u001b[0m: Message: no such element: Unable to locate element: {\"method\":\"css selector\",\"selector\":\"#itemcase_basic > div.box__item-title > div.price > span.price_innerwrap.price_innerwrap-coupon > strong\"}\n  (Session info: chrome=122.0.6261.69); For documentation on this error, please visit: https://www.selenium.dev/documentation/webdriver/troubleshooting/errors#no-such-element-exception\nStacktrace:\n\tGetHandleVerifier [0x00007FF6B16F4C82+3505170]\n\t(No symbol) [0x00007FF6B1320852]\n\t(No symbol) [0x00007FF6B11D4145]\n\t(No symbol) [0x00007FF6B1219ADD]\n\t(No symbol) [0x00007FF6B1219C1C]\n\t(No symbol) [0x00007FF6B125AB27]\n\t(No symbol) [0x00007FF6B123BECF]\n\t(No symbol) [0x00007FF6B12583B2]\n\t(No symbol) [0x00007FF6B123BC33]\n\t(No symbol) [0x00007FF6B120D618]\n\t(No symbol) [0x00007FF6B120E6B1]\n\tGetHandleVerifier [0x00007FF6B17267DD+3708781]\n\tGetHandleVerifier [0x00007FF6B177FC5D+4074477]\n\tGetHandleVerifier [0x00007FF6B1777DDF+4042095]\n\tGetHandleVerifier [0x00007FF6B144A136+708806]\n\t(No symbol) [0x00007FF6B132CB0F]\n\t(No symbol) [0x00007FF6B1327D14]\n\t(No symbol) [0x00007FF6B1327E6C]\n\t(No symbol) [0x00007FF6B13179A4]\n\tBaseThreadInitThunk [0x00007FF9053A7344+20]\n\tRtlUserThreadStart [0x00007FF9059A26B1+33]\n"
     ]
    }
   ],
   "source": [
    "#3가격수집(쿠폰가)\n",
    "price=driver.find_element(By.CSS_SELECTOR,\"#itemcase_basic > div.box__item-title > div.price > span.price_innerwrap.price_innerwrap-coupon > strong\")\n"
   ]
  },
  {
   "cell_type": "code",
   "execution_count": 7,
   "id": "d323580b",
   "metadata": {},
   "outputs": [],
   "source": [
    "#뒤로가기\n",
    "driver.back()"
   ]
  },
  {
   "cell_type": "code",
   "execution_count": 8,
   "id": "17f4759f",
   "metadata": {},
   "outputs": [],
   "source": [
    "# 파이썬 반복문(for문)의 진행상황을 체크하는 라이브러리\n",
    "from tqdm.notebook import tqdm"
   ]
  },
  {
   "cell_type": "code",
   "execution_count": null,
   "id": "b9615c2d",
   "metadata": {},
   "outputs": [
    {
     "data": {
      "application/vnd.jupyter.widget-view+json": {
       "model_id": "19dfc5b8d52c43438ab957642804a183",
       "version_major": 2,
       "version_minor": 0
      },
      "text/plain": [
       "  0%|          | 0/20 [00:00<?, ?it/s]"
      ]
     },
     "metadata": {},
     "output_type": "display_data"
    }
   ],
   "source": [
    "# 반복문으로 20개 상품 수집\n",
    "title_list=[]\n",
    "price_list=[]\n",
    "#7-4.로딩바를 생성하는 tqdm(범위)\n",
    "for i in tqdm(range(20)):\n",
    "    img=driver.find_elements(By.CSS_SELECTOR,\"#gBestWrap > div.best-list > ul > li> div.thumb > a > img\")\n",
    "    img[i].click()\n",
    "    time.sleep(1)\n",
    "    #데이터 수집\n",
    "    title=driver.find_element(By.CSS_SELECTOR,\"#itemcase_basic > div.box__item-title > h1\")\n",
    "    #7-3.예외사항 설정\n",
    "    try:\n",
    "        price=driver.find_element(By.CSS_SELECTOR,\"#itemcase_basic > div.box__item-title > div.price > span.price_innerwrap.price_innerwrap-coupon > strong\")\n",
    "    except:\n",
    "        price=driver.find_element(By.CSS_SELECTOR,\"#itemcase_basic > div.box__item-title > div.price > span.price_innerwrap > strong\")\n",
    "    #데이터 저장\n",
    "    title_list.append(title.text)\n",
    "    price_list.append(price.text)\n",
    "    driver.back()\n",
    "    time.sleep(1)\n",
    "    "
   ]
  },
  {
   "cell_type": "code",
   "execution_count": null,
   "id": "65952f44",
   "metadata": {},
   "outputs": [],
   "source": [
    "# 데이터프레임, csv"
   ]
  }
 ],
 "metadata": {
  "kernelspec": {
   "display_name": "Python 3 (ipykernel)",
   "language": "python",
   "name": "python3"
  },
  "language_info": {
   "codemirror_mode": {
    "name": "ipython",
    "version": 3
   },
   "file_extension": ".py",
   "mimetype": "text/x-python",
   "name": "python",
   "nbconvert_exporter": "python",
   "pygments_lexer": "ipython3",
   "version": "3.11.5"
  }
 },
 "nbformat": 4,
 "nbformat_minor": 5
}
