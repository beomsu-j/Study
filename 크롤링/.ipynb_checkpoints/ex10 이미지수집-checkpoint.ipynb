{
 "cells": [
  {
   "cell_type": "code",
   "execution_count": 2,
   "id": "167b7acf",
   "metadata": {},
   "outputs": [],
   "source": [
    "from selenium import webdriver as wb\n",
    "from selenium.webdriver.common.by import By\n",
    "from selenium.webdriver.common.keys import Keys\n",
    "import time\n",
    "# 파일시스템을 위한 라이브러리(파일,폴더를 삭제 생성하는 라이브러리)\n",
    "import os\n",
    "# 이미지의 url을 실제 파일로 변환하는 라이브러리\n",
    "from urllib.request import urlretrieve"
   ]
  },
  {
   "cell_type": "code",
   "execution_count": 5,
   "id": "c9e68934",
   "metadata": {},
   "outputs": [],
   "source": [
    "# 바탕화면에 이미지라는 폴더가 없다면 바탕화면에 이미지 폴더 만들어\n",
    "if not os.path.isdir(\"C:/Users/smhrd/Desktop/임이쥐\"):\n",
    "    os.mkdir(\"C:/Users/smhrd/Desktop/임이쥐\")"
   ]
  },
  {
   "cell_type": "code",
   "execution_count": 4,
   "id": "24d41fce",
   "metadata": {},
   "outputs": [],
   "source": [
    "driver=wb.Chrome()\n",
    "driver.get(\"https://search.naver.com/search.naver?ssc=tab.image.all&where=image&sm=tab_jum&query=%ED%95%9C%EC%86%8C%ED%9D%AC\")"
   ]
  },
  {
   "cell_type": "code",
   "execution_count": 7,
   "id": "01f19ee1",
   "metadata": {},
   "outputs": [
    {
     "data": {
      "text/plain": [
       "[<selenium.webdriver.remote.webelement.WebElement (session=\"92891486c911f8b6efb50e57e4e6509f\", element=\"f.6EDBEE053256D102724FE94540CBCDDF.d.F05453E7ED818189486DC81291C3E278.e.85\")>,\n",
       " <selenium.webdriver.remote.webelement.WebElement (session=\"92891486c911f8b6efb50e57e4e6509f\", element=\"f.6EDBEE053256D102724FE94540CBCDDF.d.F05453E7ED818189486DC81291C3E278.e.86\")>,\n",
       " <selenium.webdriver.remote.webelement.WebElement (session=\"92891486c911f8b6efb50e57e4e6509f\", element=\"f.6EDBEE053256D102724FE94540CBCDDF.d.F05453E7ED818189486DC81291C3E278.e.89\")>,\n",
       " <selenium.webdriver.remote.webelement.WebElement (session=\"92891486c911f8b6efb50e57e4e6509f\", element=\"f.6EDBEE053256D102724FE94540CBCDDF.d.F05453E7ED818189486DC81291C3E278.e.87\")>,\n",
       " <selenium.webdriver.remote.webelement.WebElement (session=\"92891486c911f8b6efb50e57e4e6509f\", element=\"f.6EDBEE053256D102724FE94540CBCDDF.d.F05453E7ED818189486DC81291C3E278.e.97\")>,\n",
       " <selenium.webdriver.remote.webelement.WebElement (session=\"92891486c911f8b6efb50e57e4e6509f\", element=\"f.6EDBEE053256D102724FE94540CBCDDF.d.F05453E7ED818189486DC81291C3E278.e.88\")>,\n",
       " <selenium.webdriver.remote.webelement.WebElement (session=\"92891486c911f8b6efb50e57e4e6509f\", element=\"f.6EDBEE053256D102724FE94540CBCDDF.d.F05453E7ED818189486DC81291C3E278.e.90\")>,\n",
       " <selenium.webdriver.remote.webelement.WebElement (session=\"92891486c911f8b6efb50e57e4e6509f\", element=\"f.6EDBEE053256D102724FE94540CBCDDF.d.F05453E7ED818189486DC81291C3E278.e.91\")>,\n",
       " <selenium.webdriver.remote.webelement.WebElement (session=\"92891486c911f8b6efb50e57e4e6509f\", element=\"f.6EDBEE053256D102724FE94540CBCDDF.d.F05453E7ED818189486DC81291C3E278.e.92\")>,\n",
       " <selenium.webdriver.remote.webelement.WebElement (session=\"92891486c911f8b6efb50e57e4e6509f\", element=\"f.6EDBEE053256D102724FE94540CBCDDF.d.F05453E7ED818189486DC81291C3E278.e.98\")>,\n",
       " <selenium.webdriver.remote.webelement.WebElement (session=\"92891486c911f8b6efb50e57e4e6509f\", element=\"f.6EDBEE053256D102724FE94540CBCDDF.d.F05453E7ED818189486DC81291C3E278.e.93\")>,\n",
       " <selenium.webdriver.remote.webelement.WebElement (session=\"92891486c911f8b6efb50e57e4e6509f\", element=\"f.6EDBEE053256D102724FE94540CBCDDF.d.F05453E7ED818189486DC81291C3E278.e.95\")>,\n",
       " <selenium.webdriver.remote.webelement.WebElement (session=\"92891486c911f8b6efb50e57e4e6509f\", element=\"f.6EDBEE053256D102724FE94540CBCDDF.d.F05453E7ED818189486DC81291C3E278.e.94\")>,\n",
       " <selenium.webdriver.remote.webelement.WebElement (session=\"92891486c911f8b6efb50e57e4e6509f\", element=\"f.6EDBEE053256D102724FE94540CBCDDF.d.F05453E7ED818189486DC81291C3E278.e.99\")>,\n",
       " <selenium.webdriver.remote.webelement.WebElement (session=\"92891486c911f8b6efb50e57e4e6509f\", element=\"f.6EDBEE053256D102724FE94540CBCDDF.d.F05453E7ED818189486DC81291C3E278.e.96\")>,\n",
       " <selenium.webdriver.remote.webelement.WebElement (session=\"92891486c911f8b6efb50e57e4e6509f\", element=\"f.6EDBEE053256D102724FE94540CBCDDF.d.F05453E7ED818189486DC81291C3E278.e.100\")>,\n",
       " <selenium.webdriver.remote.webelement.WebElement (session=\"92891486c911f8b6efb50e57e4e6509f\", element=\"f.6EDBEE053256D102724FE94540CBCDDF.d.F05453E7ED818189486DC81291C3E278.e.101\")>,\n",
       " <selenium.webdriver.remote.webelement.WebElement (session=\"92891486c911f8b6efb50e57e4e6509f\", element=\"f.6EDBEE053256D102724FE94540CBCDDF.d.F05453E7ED818189486DC81291C3E278.e.102\")>,\n",
       " <selenium.webdriver.remote.webelement.WebElement (session=\"92891486c911f8b6efb50e57e4e6509f\", element=\"f.6EDBEE053256D102724FE94540CBCDDF.d.F05453E7ED818189486DC81291C3E278.e.103\")>,\n",
       " <selenium.webdriver.remote.webelement.WebElement (session=\"92891486c911f8b6efb50e57e4e6509f\", element=\"f.6EDBEE053256D102724FE94540CBCDDF.d.F05453E7ED818189486DC81291C3E278.e.104\")>,\n",
       " <selenium.webdriver.remote.webelement.WebElement (session=\"92891486c911f8b6efb50e57e4e6509f\", element=\"f.6EDBEE053256D102724FE94540CBCDDF.d.F05453E7ED818189486DC81291C3E278.e.105\")>,\n",
       " <selenium.webdriver.remote.webelement.WebElement (session=\"92891486c911f8b6efb50e57e4e6509f\", element=\"f.6EDBEE053256D102724FE94540CBCDDF.d.F05453E7ED818189486DC81291C3E278.e.106\")>,\n",
       " <selenium.webdriver.remote.webelement.WebElement (session=\"92891486c911f8b6efb50e57e4e6509f\", element=\"f.6EDBEE053256D102724FE94540CBCDDF.d.F05453E7ED818189486DC81291C3E278.e.107\")>,\n",
       " <selenium.webdriver.remote.webelement.WebElement (session=\"92891486c911f8b6efb50e57e4e6509f\", element=\"f.6EDBEE053256D102724FE94540CBCDDF.d.F05453E7ED818189486DC81291C3E278.e.108\")>,\n",
       " <selenium.webdriver.remote.webelement.WebElement (session=\"92891486c911f8b6efb50e57e4e6509f\", element=\"f.6EDBEE053256D102724FE94540CBCDDF.d.F05453E7ED818189486DC81291C3E278.e.109\")>,\n",
       " <selenium.webdriver.remote.webelement.WebElement (session=\"92891486c911f8b6efb50e57e4e6509f\", element=\"f.6EDBEE053256D102724FE94540CBCDDF.d.F05453E7ED818189486DC81291C3E278.e.110\")>,\n",
       " <selenium.webdriver.remote.webelement.WebElement (session=\"92891486c911f8b6efb50e57e4e6509f\", element=\"f.6EDBEE053256D102724FE94540CBCDDF.d.F05453E7ED818189486DC81291C3E278.e.111\")>,\n",
       " <selenium.webdriver.remote.webelement.WebElement (session=\"92891486c911f8b6efb50e57e4e6509f\", element=\"f.6EDBEE053256D102724FE94540CBCDDF.d.F05453E7ED818189486DC81291C3E278.e.112\")>,\n",
       " <selenium.webdriver.remote.webelement.WebElement (session=\"92891486c911f8b6efb50e57e4e6509f\", element=\"f.6EDBEE053256D102724FE94540CBCDDF.d.F05453E7ED818189486DC81291C3E278.e.113\")>,\n",
       " <selenium.webdriver.remote.webelement.WebElement (session=\"92891486c911f8b6efb50e57e4e6509f\", element=\"f.6EDBEE053256D102724FE94540CBCDDF.d.F05453E7ED818189486DC81291C3E278.e.114\")>,\n",
       " <selenium.webdriver.remote.webelement.WebElement (session=\"92891486c911f8b6efb50e57e4e6509f\", element=\"f.6EDBEE053256D102724FE94540CBCDDF.d.F05453E7ED818189486DC81291C3E278.e.115\")>,\n",
       " <selenium.webdriver.remote.webelement.WebElement (session=\"92891486c911f8b6efb50e57e4e6509f\", element=\"f.6EDBEE053256D102724FE94540CBCDDF.d.F05453E7ED818189486DC81291C3E278.e.116\")>,\n",
       " <selenium.webdriver.remote.webelement.WebElement (session=\"92891486c911f8b6efb50e57e4e6509f\", element=\"f.6EDBEE053256D102724FE94540CBCDDF.d.F05453E7ED818189486DC81291C3E278.e.117\")>,\n",
       " <selenium.webdriver.remote.webelement.WebElement (session=\"92891486c911f8b6efb50e57e4e6509f\", element=\"f.6EDBEE053256D102724FE94540CBCDDF.d.F05453E7ED818189486DC81291C3E278.e.118\")>,\n",
       " <selenium.webdriver.remote.webelement.WebElement (session=\"92891486c911f8b6efb50e57e4e6509f\", element=\"f.6EDBEE053256D102724FE94540CBCDDF.d.F05453E7ED818189486DC81291C3E278.e.119\")>,\n",
       " <selenium.webdriver.remote.webelement.WebElement (session=\"92891486c911f8b6efb50e57e4e6509f\", element=\"f.6EDBEE053256D102724FE94540CBCDDF.d.F05453E7ED818189486DC81291C3E278.e.120\")>,\n",
       " <selenium.webdriver.remote.webelement.WebElement (session=\"92891486c911f8b6efb50e57e4e6509f\", element=\"f.6EDBEE053256D102724FE94540CBCDDF.d.F05453E7ED818189486DC81291C3E278.e.121\")>,\n",
       " <selenium.webdriver.remote.webelement.WebElement (session=\"92891486c911f8b6efb50e57e4e6509f\", element=\"f.6EDBEE053256D102724FE94540CBCDDF.d.F05453E7ED818189486DC81291C3E278.e.122\")>,\n",
       " <selenium.webdriver.remote.webelement.WebElement (session=\"92891486c911f8b6efb50e57e4e6509f\", element=\"f.6EDBEE053256D102724FE94540CBCDDF.d.F05453E7ED818189486DC81291C3E278.e.123\")>,\n",
       " <selenium.webdriver.remote.webelement.WebElement (session=\"92891486c911f8b6efb50e57e4e6509f\", element=\"f.6EDBEE053256D102724FE94540CBCDDF.d.F05453E7ED818189486DC81291C3E278.e.124\")>,\n",
       " <selenium.webdriver.remote.webelement.WebElement (session=\"92891486c911f8b6efb50e57e4e6509f\", element=\"f.6EDBEE053256D102724FE94540CBCDDF.d.F05453E7ED818189486DC81291C3E278.e.125\")>,\n",
       " <selenium.webdriver.remote.webelement.WebElement (session=\"92891486c911f8b6efb50e57e4e6509f\", element=\"f.6EDBEE053256D102724FE94540CBCDDF.d.F05453E7ED818189486DC81291C3E278.e.126\")>,\n",
       " <selenium.webdriver.remote.webelement.WebElement (session=\"92891486c911f8b6efb50e57e4e6509f\", element=\"f.6EDBEE053256D102724FE94540CBCDDF.d.F05453E7ED818189486DC81291C3E278.e.127\")>,\n",
       " <selenium.webdriver.remote.webelement.WebElement (session=\"92891486c911f8b6efb50e57e4e6509f\", element=\"f.6EDBEE053256D102724FE94540CBCDDF.d.F05453E7ED818189486DC81291C3E278.e.128\")>,\n",
       " <selenium.webdriver.remote.webelement.WebElement (session=\"92891486c911f8b6efb50e57e4e6509f\", element=\"f.6EDBEE053256D102724FE94540CBCDDF.d.F05453E7ED818189486DC81291C3E278.e.129\")>,\n",
       " <selenium.webdriver.remote.webelement.WebElement (session=\"92891486c911f8b6efb50e57e4e6509f\", element=\"f.6EDBEE053256D102724FE94540CBCDDF.d.F05453E7ED818189486DC81291C3E278.e.130\")>,\n",
       " <selenium.webdriver.remote.webelement.WebElement (session=\"92891486c911f8b6efb50e57e4e6509f\", element=\"f.6EDBEE053256D102724FE94540CBCDDF.d.F05453E7ED818189486DC81291C3E278.e.131\")>,\n",
       " <selenium.webdriver.remote.webelement.WebElement (session=\"92891486c911f8b6efb50e57e4e6509f\", element=\"f.6EDBEE053256D102724FE94540CBCDDF.d.F05453E7ED818189486DC81291C3E278.e.132\")>,\n",
       " <selenium.webdriver.remote.webelement.WebElement (session=\"92891486c911f8b6efb50e57e4e6509f\", element=\"f.6EDBEE053256D102724FE94540CBCDDF.d.F05453E7ED818189486DC81291C3E278.e.133\")>,\n",
       " <selenium.webdriver.remote.webelement.WebElement (session=\"92891486c911f8b6efb50e57e4e6509f\", element=\"f.6EDBEE053256D102724FE94540CBCDDF.d.F05453E7ED818189486DC81291C3E278.e.134\")>]"
      ]
     },
     "execution_count": 7,
     "metadata": {},
     "output_type": "execute_result"
    }
   ],
   "source": [
    "img=driver.find_elements(By.CSS_SELECTOR,\"#main_pack > section.sc_new.sp_nimage._fe_image_viewer_prepend_target > div.api_subject_bx._fe_image_tab_list_root.ani_fadein > div > div > div.image_tile._fe_image_tab_grid > div > div > div > div > img\")\n",
    "img"
   ]
  },
  {
   "cell_type": "code",
   "execution_count": 8,
   "id": "c05d4d55",
   "metadata": {},
   "outputs": [
    {
     "data": {
      "text/plain": [
       "'https://search.pstatic.net/common/?src=http%3A%2F%2Fblogfiles.naver.net%2FMjAyNDAxMjVfMTc4%2FMDAxNzA2MTY0Nzc2ODk2.RXN3vzzwCos6fCpoDcLhU4nPrtWOuRO9wd-kn2Tq9fUg.TnROAjWLLjG0Gvk5wiulhIPW0Mbhqor9iB0okTUDiiMg.JPEG.gydls008%2F1706164770989.jpg&type=l340_165'"
      ]
     },
     "execution_count": 8,
     "metadata": {},
     "output_type": "execute_result"
    }
   ],
   "source": [
    "#이미지태그의 속성중에 src를 가지고와라\n",
    "#.get_attribute(\"속성\") -> EX) 이미지 태그의 src/ A태그의 herf\n",
    "img[0].get_attribute(\"src\")"
   ]
  },
  {
   "cell_type": "code",
   "execution_count": 9,
   "id": "2ca6a5c9",
   "metadata": {},
   "outputs": [],
   "source": [
    "img_list=[]\n",
    "for i in range(len(img)):\n",
    "    img_list.append(img[i].get_attribute(\"src\"))"
   ]
  },
  {
   "cell_type": "code",
   "execution_count": 10,
   "id": "18235ceb",
   "metadata": {},
   "outputs": [
    {
     "data": {
      "text/plain": [
       "['https://search.pstatic.net/common/?src=http%3A%2F%2Fblogfiles.naver.net%2FMjAyNDAxMjVfMTc4%2FMDAxNzA2MTY0Nzc2ODk2.RXN3vzzwCos6fCpoDcLhU4nPrtWOuRO9wd-kn2Tq9fUg.TnROAjWLLjG0Gvk5wiulhIPW0Mbhqor9iB0okTUDiiMg.JPEG.gydls008%2F1706164770989.jpg&type=l340_165',\n",
       " 'https://search.pstatic.net/common/?src=http%3A%2F%2Fblogfiles.naver.net%2FMjAyMzEyMzFfNzkg%2FMDAxNzAzOTk4NzMxODkz.vR_Y3ms3DUzDPbG9fr08hJUIA18FM9Qcz_DYcIswrfwg.JXcfk3kgv6SycsAxiosw6mK6J62xzfO0sgTJ00QvKRog.JPEG.skil666%2Fseol_kyung_il_c95dc2dea1464d19a165983b98ac8c7e.jpg&type=a340',\n",
       " 'https://search.pstatic.net/common/?src=http%3A%2F%2Fimgnews.naver.net%2Fimage%2F382%2F2023%2F10%2F28%2F0001083856_003_20231028030101424.jpg&type=a340',\n",
       " 'https://search.pstatic.net/common/?src=http%3A%2F%2Fimgnews.naver.net%2Fimage%2F009%2F2023%2F12%2F05%2F0005225194_001_20231205084001012.jpg&type=a340',\n",
       " 'https://search.pstatic.net/common/?src=http%3A%2F%2Fimgnews.naver.net%2Fimage%2F477%2F2022%2F05%2F03%2F0000357069_001_20220503150902637.jpg&type=a340',\n",
       " 'https://search.pstatic.net/common/?src=http%3A%2F%2Fblogfiles.naver.net%2FMjAyNDAxMzFfMSAg%2FMDAxNzA2NjgwMTE3NDM1.b7l_osGUFpcIDUKa1jJJxHgjo_ALOfpakGOj2wpmnRIg.sS5y-XU1KPv_s2zC100WCnDAb1Hakza11C0bYND2kcIg.PNG.so0ho2%2Fimage.png&type=a340',\n",
       " 'https://search.pstatic.net/common/?src=http%3A%2F%2Fblogfiles.naver.net%2FMjAyNDAxMzFfNzAg%2FMDAxNzA2Njc5ODIzMzY1.4AUZkTAZAn4Cus-KvAfQjYSUVckU-gWzfNC6q_5ATgkg.sy-f1IXhw-ni-9pAxGjJTyNnV7liRMAhTbYE6jkgTbog.JPEG.jayuyu%2F%25B1%25E4%25B8%25D3%25B8%25AE%25C6%25DF6.jpg&type=a340',\n",
       " 'https://search.pstatic.net/common/?src=http%3A%2F%2Fblogfiles.naver.net%2FMjAyNDAxMTZfMTY4%2FMDAxNzA1MzkzNTQ1MzAx.z6Z5DK0pbb-IwlN0ye0rVu_pi-W6AbYUNnCzlKVtpu4g.ZFqpsnGwm7fnviExwNzSWUfiQXTziXAPaNb6EDOhBYgg.JPEG.tvmania2023%2FIMG_9445.JPG&type=a340',\n",
       " 'https://search.pstatic.net/common/?src=http%3A%2F%2Fimgnews.naver.net%2Fimage%2F609%2F2021%2F10%2F08%2F202110081617370010_1_20211008161833570.jpg&type=a340',\n",
       " 'https://search.pstatic.net/common/?src=http%3A%2F%2Fblogfiles.naver.net%2FMjAyMzExMjhfODUg%2FMDAxNzAxMTU2MTM1NDIy.79DMLj2xcHfxKfvKmcBkXLah_FXXu3CcHrCFuD82F3cg.b4IxR0yW-k3qxn3W_FemZwsJhQRDx_MACnCfd7JBlmcg.JPEG.aink_%2F2A8F98B1-7669-4113-9A61-EBBCFFC7D04A.JPEG&type=a340',\n",
       " 'https://search.pstatic.net/common/?src=http%3A%2F%2Fimgnews.naver.net%2Fimage%2F5401%2F2017%2F09%2F22%2F0000106491_001_20170922194427400.jpg&type=a340',\n",
       " 'https://search.pstatic.net/common/?src=http%3A%2F%2Fimgnews.naver.net%2Fimage%2F609%2F2023%2F07%2F01%2F202307011032323510_1_20230701103302328.jpg&type=a340',\n",
       " 'https://search.pstatic.net/common/?src=http%3A%2F%2Fblogfiles.naver.net%2FMjAyNDAxMjBfMTIy%2FMDAxNzA1NzE3NDUyNzI2.h1xfwHymCvYAI10o29dxYv5K3E3YIsVBZLvsAZau064g.lZByybHjrSYddhB-tDTGHZD3TaP-c2S--qen6OEYfg8g.JPEG.y781008%2FKakaoTalk_20231006_222931081_062.jpg&type=a340',\n",
       " 'https://search.pstatic.net/common/?src=http%3A%2F%2Fimgnews.naver.net%2Fimage%2F076%2F2023%2F04%2F06%2F2023040701000545200059563_20230406222406069.jpg&type=a340',\n",
       " 'https://search.pstatic.net/common/?src=http%3A%2F%2Fblogfiles.naver.net%2FMjAyNDAxMjBfNDQg%2FMDAxNzA1NzU5MTUwMzQ0.a1GxG8ItrPQZoIDHreaNxzl_WKa208LtO0cj_PYPnL4g.5gCI6vuRxDJT0COQ_ZZ1oSqBNfsjQQCHugGxJc7VqvQg.JPEG.kkk5941998%2F20240120%25A3%25DF225453.jpg&type=a340',\n",
       " 'https://search.pstatic.net/common/?src=http%3A%2F%2Fimgnews.naver.net%2Fimage%2F5352%2F2018%2F09%2F04%2F20180904191019_1246319_600_818_20180904191406130.jpg&type=a340',\n",
       " 'https://search.pstatic.net/common/?src=http%3A%2F%2Fblogfiles.naver.net%2FMjAyMzA4MjZfNzkg%2FMDAxNjkzMDE5NjIxODQ1.ZKHsMhkzjHJ_h96sQ-yLJjKWnI7peA4NMmwbcVO2ixog.fXEZX4Hg6uIIF3NWbe1wejNnndndE-93DYUj6qTMtD4g.JPEG.cururami0703%2F%25B4%25D9%25BF%25EE%25B7%25CE%25B5%25E5_%25283%2529.jpeg&type=a340',\n",
       " 'https://search.pstatic.net/common/?src=http%3A%2F%2Fimgnews.naver.net%2Fimage%2F408%2F2022%2F05%2F03%2F0000153823_001_20220503151101478.jpg&type=a340',\n",
       " 'https://search.pstatic.net/common/?src=http%3A%2F%2Fimgnews.naver.net%2Fimage%2F421%2F2017%2F09%2F22%2F0002959970_001_20170923002434490.jpg&type=a340',\n",
       " 'data:image/gif;base64,R0lGODlhAQABAIAAAAAAAP///yH5BAEAAAAALAAAAAABAAEAAAIBRAA7',\n",
       " 'data:image/gif;base64,R0lGODlhAQABAIAAAAAAAP///yH5BAEAAAAALAAAAAABAAEAAAIBRAA7',\n",
       " 'data:image/gif;base64,R0lGODlhAQABAIAAAAAAAP///yH5BAEAAAAALAAAAAABAAEAAAIBRAA7',\n",
       " 'data:image/gif;base64,R0lGODlhAQABAIAAAAAAAP///yH5BAEAAAAALAAAAAABAAEAAAIBRAA7',\n",
       " 'data:image/gif;base64,R0lGODlhAQABAIAAAAAAAP///yH5BAEAAAAALAAAAAABAAEAAAIBRAA7',\n",
       " 'data:image/gif;base64,R0lGODlhAQABAIAAAAAAAP///yH5BAEAAAAALAAAAAABAAEAAAIBRAA7',\n",
       " 'data:image/gif;base64,R0lGODlhAQABAIAAAAAAAP///yH5BAEAAAAALAAAAAABAAEAAAIBRAA7',\n",
       " 'data:image/gif;base64,R0lGODlhAQABAIAAAAAAAP///yH5BAEAAAAALAAAAAABAAEAAAIBRAA7',\n",
       " 'data:image/gif;base64,R0lGODlhAQABAIAAAAAAAP///yH5BAEAAAAALAAAAAABAAEAAAIBRAA7',\n",
       " 'data:image/gif;base64,R0lGODlhAQABAIAAAAAAAP///yH5BAEAAAAALAAAAAABAAEAAAIBRAA7',\n",
       " 'data:image/gif;base64,R0lGODlhAQABAIAAAAAAAP///yH5BAEAAAAALAAAAAABAAEAAAIBRAA7',\n",
       " 'data:image/gif;base64,R0lGODlhAQABAIAAAAAAAP///yH5BAEAAAAALAAAAAABAAEAAAIBRAA7',\n",
       " 'data:image/gif;base64,R0lGODlhAQABAIAAAAAAAP///yH5BAEAAAAALAAAAAABAAEAAAIBRAA7',\n",
       " 'data:image/gif;base64,R0lGODlhAQABAIAAAAAAAP///yH5BAEAAAAALAAAAAABAAEAAAIBRAA7',\n",
       " 'data:image/gif;base64,R0lGODlhAQABAIAAAAAAAP///yH5BAEAAAAALAAAAAABAAEAAAIBRAA7',\n",
       " 'data:image/gif;base64,R0lGODlhAQABAIAAAAAAAP///yH5BAEAAAAALAAAAAABAAEAAAIBRAA7',\n",
       " 'data:image/gif;base64,R0lGODlhAQABAIAAAAAAAP///yH5BAEAAAAALAAAAAABAAEAAAIBRAA7',\n",
       " 'data:image/gif;base64,R0lGODlhAQABAIAAAAAAAP///yH5BAEAAAAALAAAAAABAAEAAAIBRAA7',\n",
       " 'data:image/gif;base64,R0lGODlhAQABAIAAAAAAAP///yH5BAEAAAAALAAAAAABAAEAAAIBRAA7',\n",
       " 'data:image/gif;base64,R0lGODlhAQABAIAAAAAAAP///yH5BAEAAAAALAAAAAABAAEAAAIBRAA7',\n",
       " 'data:image/gif;base64,R0lGODlhAQABAIAAAAAAAP///yH5BAEAAAAALAAAAAABAAEAAAIBRAA7',\n",
       " 'data:image/gif;base64,R0lGODlhAQABAIAAAAAAAP///yH5BAEAAAAALAAAAAABAAEAAAIBRAA7',\n",
       " 'data:image/gif;base64,R0lGODlhAQABAIAAAAAAAP///yH5BAEAAAAALAAAAAABAAEAAAIBRAA7',\n",
       " 'data:image/gif;base64,R0lGODlhAQABAIAAAAAAAP///yH5BAEAAAAALAAAAAABAAEAAAIBRAA7',\n",
       " 'data:image/gif;base64,R0lGODlhAQABAIAAAAAAAP///yH5BAEAAAAALAAAAAABAAEAAAIBRAA7',\n",
       " 'data:image/gif;base64,R0lGODlhAQABAIAAAAAAAP///yH5BAEAAAAALAAAAAABAAEAAAIBRAA7',\n",
       " 'data:image/gif;base64,R0lGODlhAQABAIAAAAAAAP///yH5BAEAAAAALAAAAAABAAEAAAIBRAA7',\n",
       " 'data:image/gif;base64,R0lGODlhAQABAIAAAAAAAP///yH5BAEAAAAALAAAAAABAAEAAAIBRAA7',\n",
       " 'data:image/gif;base64,R0lGODlhAQABAIAAAAAAAP///yH5BAEAAAAALAAAAAABAAEAAAIBRAA7',\n",
       " 'data:image/gif;base64,R0lGODlhAQABAIAAAAAAAP///yH5BAEAAAAALAAAAAABAAEAAAIBRAA7',\n",
       " 'data:image/gif;base64,R0lGODlhAQABAIAAAAAAAP///yH5BAEAAAAALAAAAAABAAEAAAIBRAA7']"
      ]
     },
     "execution_count": 10,
     "metadata": {},
     "output_type": "execute_result"
    }
   ],
   "source": [
    "img_list"
   ]
  },
  {
   "cell_type": "code",
   "execution_count": 12,
   "id": "b8005d86",
   "metadata": {},
   "outputs": [],
   "source": [
    "for i in range(len(img_list)):\n",
    "    urlretrieve(img_list[i],\"C:/Users/smhrd/Desktop/임이쥐/\"+str(i)+\".jpg\")"
   ]
  },
  {
   "cell_type": "code",
   "execution_count": null,
   "id": "de80b383",
   "metadata": {},
   "outputs": [],
   "source": []
  }
 ],
 "metadata": {
  "kernelspec": {
   "display_name": "Python 3 (ipykernel)",
   "language": "python",
   "name": "python3"
  },
  "language_info": {
   "codemirror_mode": {
    "name": "ipython",
    "version": 3
   },
   "file_extension": ".py",
   "mimetype": "text/x-python",
   "name": "python",
   "nbconvert_exporter": "python",
   "pygments_lexer": "ipython3",
   "version": "3.11.5"
  }
 },
 "nbformat": 4,
 "nbformat_minor": 5
}
