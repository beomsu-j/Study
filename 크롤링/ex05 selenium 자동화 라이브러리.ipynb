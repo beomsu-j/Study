{
 "cells": [
  {
   "cell_type": "code",
   "execution_count": 1,
   "id": "e91c3c74",
   "metadata": {
    "collapsed": true
   },
   "outputs": [
    {
     "name": "stdout",
     "output_type": "stream",
     "text": [
      "Requirement already satisfied: selenium in c:\\users\\smhrd\\anaconda4\\lib\\site-packages (4.18.1)\n",
      "Requirement already satisfied: urllib3[socks]<3,>=1.26 in c:\\users\\smhrd\\anaconda4\\lib\\site-packages (from selenium) (1.26.16)\n",
      "Requirement already satisfied: trio~=0.17 in c:\\users\\smhrd\\anaconda4\\lib\\site-packages (from selenium) (0.24.0)\n",
      "Requirement already satisfied: trio-websocket~=0.9 in c:\\users\\smhrd\\anaconda4\\lib\\site-packages (from selenium) (0.11.1)\n",
      "Requirement already satisfied: certifi>=2021.10.8 in c:\\users\\smhrd\\anaconda4\\lib\\site-packages (from selenium) (2023.7.22)\n",
      "Requirement already satisfied: typing_extensions>=4.9.0 in c:\\users\\smhrd\\anaconda4\\lib\\site-packages (from selenium) (4.9.0)\n",
      "Requirement already satisfied: attrs>=20.1.0 in c:\\users\\smhrd\\anaconda4\\lib\\site-packages (from trio~=0.17->selenium) (22.1.0)\n",
      "Requirement already satisfied: sortedcontainers in c:\\users\\smhrd\\anaconda4\\lib\\site-packages (from trio~=0.17->selenium) (2.4.0)\n",
      "Requirement already satisfied: idna in c:\\users\\smhrd\\anaconda4\\lib\\site-packages (from trio~=0.17->selenium) (3.4)\n",
      "Requirement already satisfied: outcome in c:\\users\\smhrd\\anaconda4\\lib\\site-packages (from trio~=0.17->selenium) (1.3.0.post0)\n",
      "Requirement already satisfied: sniffio>=1.3.0 in c:\\users\\smhrd\\anaconda4\\lib\\site-packages (from trio~=0.17->selenium) (1.3.0)\n",
      "Requirement already satisfied: cffi>=1.14 in c:\\users\\smhrd\\anaconda4\\lib\\site-packages (from trio~=0.17->selenium) (1.15.1)\n",
      "Requirement already satisfied: wsproto>=0.14 in c:\\users\\smhrd\\anaconda4\\lib\\site-packages (from trio-websocket~=0.9->selenium) (1.2.0)\n",
      "Requirement already satisfied: PySocks!=1.5.7,<2.0,>=1.5.6 in c:\\users\\smhrd\\anaconda4\\lib\\site-packages (from urllib3[socks]<3,>=1.26->selenium) (1.7.1)\n",
      "Requirement already satisfied: pycparser in c:\\users\\smhrd\\anaconda4\\lib\\site-packages (from cffi>=1.14->trio~=0.17->selenium) (2.21)\n",
      "Requirement already satisfied: h11<1,>=0.9.0 in c:\\users\\smhrd\\anaconda4\\lib\\site-packages (from wsproto>=0.14->trio-websocket~=0.9->selenium) (0.14.0)\n"
     ]
    }
   ],
   "source": [
    "# 라이브러리 설치\n",
    "# 라이브러리 설치는 한번만 진행한다(pc가 바뀐경우 새로)\n",
    "!pip install selenium"
   ]
  },
  {
   "cell_type": "code",
   "execution_count": 2,
   "id": "f3064e16",
   "metadata": {},
   "outputs": [],
   "source": [
    "#1 브라우저 역할을 하는 라이브러리\n",
    "from selenium import webdriver as wb\n",
    "#2. 컴퓨터용 키보드 라이브러리\n",
    "from selenium.webdriver.common.keys import Keys\n",
    "#3. 선택자를 구분지어주는 라이브러리\n",
    "from selenium.webdriver.common.by import By"
   ]
  },
  {
   "cell_type": "code",
   "execution_count": 15,
   "id": "c1298925",
   "metadata": {},
   "outputs": [],
   "source": [
    "#1 크롬창 실행\n",
    "# Chrom(\"크롬 드라이버 경로\")\n",
    "# 구버전에서는 크롬드라이버를 설치하라고 나옴, 신버전은 알아서 설치 됨!\n",
    "# 실수로 크롬드라이버를 설치하면 충돌 발생 -> 크롬드라이버 삭제\n",
    "driver=wb.Chrome()"
   ]
  },
  {
   "cell_type": "code",
   "execution_count": 16,
   "id": "1e6b9c48",
   "metadata": {},
   "outputs": [],
   "source": [
    "#2 네이버 페이지 요청\n",
    "driver.get(\"http://www.naver.com\")"
   ]
  },
  {
   "cell_type": "code",
   "execution_count": 5,
   "id": "ee95054c",
   "metadata": {},
   "outputs": [],
   "source": [
    "#3 검색창에 이강인 검색\n",
    "search=driver.find_element(By.ID,\"query\")\n",
    "#구버전코드\n",
    "driver.find_element_by_className(\"query\")"
   ]
  },
  {
   "cell_type": "code",
   "execution_count": 6,
   "id": "fda22e45",
   "metadata": {},
   "outputs": [],
   "source": [
    "#4 검색창에 이강인 값을 보내줘\n",
    "search.send_keys(\"이강인\")"
   ]
  },
  {
   "cell_type": "code",
   "execution_count": 7,
   "id": "2372409d",
   "metadata": {},
   "outputs": [],
   "source": [
    "#4-1ENTER 눌러보기\n",
    "search.send_keys(Keys.ENTER)"
   ]
  },
  {
   "cell_type": "code",
   "execution_count": 8,
   "id": "fe182405",
   "metadata": {},
   "outputs": [],
   "source": [
    "#5 화면 스크롤을 최하단으로 이동\n",
    "#body태그한테 키보드에 end값을 보내기\n",
    "body=driver.find_element(By.TAG_NAME,\"body\")\n",
    "body.send_keys(Keys.END)"
   ]
  },
  {
   "cell_type": "code",
   "execution_count": 9,
   "id": "0dc57929",
   "metadata": {},
   "outputs": [],
   "source": [
    "#6 뒤로가기\n",
    "driver.back()"
   ]
  },
  {
   "cell_type": "code",
   "execution_count": 11,
   "id": "021939ec",
   "metadata": {},
   "outputs": [],
   "source": [
    "#7 검색창에 손흥민 검색\n",
    "#페이지가 바뀌면 모든 데이터가 초기화 -> 태그 ,요소를 반드시 다시찾아줘야한다\n",
    "# 클라이언트가 서버에게 새로운 요청을 보내면, 서버는 새로운 데이터를 리턴\n",
    "search=driver.find_element(By.ID,\"query\")\n",
    "search.send_keys(\"손흥민\")"
   ]
  },
  {
   "cell_type": "code",
   "execution_count": 12,
   "id": "52c20bfa",
   "metadata": {},
   "outputs": [],
   "source": [
    "#8. 검색버튼 클릭\n",
    "# 선택자를 구분지을때 가장많이 사용되는건 CSS-SELECTOR -> 선택자를 그냥 입력\n",
    "btn=driver.find_element(By.CSS_SELECTOR,\"#sform > fieldset > button\")"
   ]
  },
  {
   "cell_type": "code",
   "execution_count": 13,
   "id": "11e85a44",
   "metadata": {},
   "outputs": [],
   "source": [
    "btn.click()"
   ]
  },
  {
   "cell_type": "code",
   "execution_count": 14,
   "id": "af52b38c",
   "metadata": {},
   "outputs": [],
   "source": [
    "#9 창 종료\n",
    "driver.close()"
   ]
  },
  {
   "cell_type": "code",
   "execution_count": 18,
   "id": "e066258f",
   "metadata": {},
   "outputs": [],
   "source": [
    "#10 글자만 수집\n",
    "title=driver.find_elements(By.CSS_SELECTOR,\"div.news_wrap.api_ani_send > div > div.news_contents > a.news_tit\")"
   ]
  },
  {
   "cell_type": "code",
   "execution_count": 20,
   "id": "d90d9b0f",
   "metadata": {},
   "outputs": [
    {
     "name": "stdout",
     "output_type": "stream",
     "text": [
      "'하극상 논란' 이강인, 소속팀서 밝은 미소…PSG \"생일 축하해\"\n",
      "음바페, 이강인 생일에 SNS 남긴 메시지는…“생축, 마이 브로”\n",
      "아라치 치킨, 이강인과 모델 계약 연장 안 한다\n",
      "\"이강인 PSG서 방출, FIFA는 이적 금지\"…가짜뉴스 확산\n"
     ]
    }
   ],
   "source": [
    "#11 순수한 텍스트만 추출\n",
    "for i in title:\n",
    "    print(i.text)"
   ]
  },
  {
   "cell_type": "code",
   "execution_count": null,
   "id": "e5667d3e",
   "metadata": {},
   "outputs": [],
   "source": []
  }
 ],
 "metadata": {
  "kernelspec": {
   "display_name": "Python 3 (ipykernel)",
   "language": "python",
   "name": "python3"
  },
  "language_info": {
   "codemirror_mode": {
    "name": "ipython",
    "version": 3
   },
   "file_extension": ".py",
   "mimetype": "text/x-python",
   "name": "python",
   "nbconvert_exporter": "python",
   "pygments_lexer": "ipython3",
   "version": "3.11.5"
  }
 },
 "nbformat": 4,
 "nbformat_minor": 5
}
