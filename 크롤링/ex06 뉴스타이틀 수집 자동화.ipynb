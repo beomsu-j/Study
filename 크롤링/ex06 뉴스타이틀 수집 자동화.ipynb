{
 "cells": [
  {
   "cell_type": "code",
   "execution_count": 9,
   "id": "4abb1afd",
   "metadata": {},
   "outputs": [],
   "source": [
    "#1 브라우저 역할을 하는 라이브러리\n",
    "from selenium import webdriver as wb\n",
    "#2. 컴퓨터용 키보드 라이브러리\n",
    "from selenium.webdriver.common.keys import Keys\n",
    "#3. 선택자를 구분지어주는 라이브러리\n",
    "from selenium.webdriver.common.by import By"
   ]
  },
  {
   "cell_type": "code",
   "execution_count": 22,
   "id": "c44086bf",
   "metadata": {},
   "outputs": [],
   "source": [
    "#1 브라우저를 실행해서 naver페이지로 이동\n",
    "driver=wb.Chrome()\n",
    "driver.get(\"http://www.naver.com\")"
   ]
  },
  {
   "cell_type": "code",
   "execution_count": 23,
   "id": "09209157",
   "metadata": {},
   "outputs": [],
   "source": [
    "#2 검색창에 이강인 검색후 엔터쳐서 내용보기\n",
    "search=driver.find_element(By.ID,\"query\")\n",
    "search.send_keys(\"이강인\")\n",
    "search.send_keys(Keys.ENTER)"
   ]
  },
  {
   "cell_type": "code",
   "execution_count": 30,
   "id": "ea251f99",
   "metadata": {
    "scrolled": false
   },
   "outputs": [],
   "source": [
    "#3메뉴 상단의 뉴스 탭 클릭\n",
    "btn=driver.find_element(By.CSS_SELECTOR,\"#lnb > div.lnb_group > div > div.lnb_nav_area._nav_area_root > div > div.api_flicking_wrap._conveyer_root > div:nth-child(1) > a\")"
   ]
  },
  {
   "cell_type": "code",
   "execution_count": 31,
   "id": "42d250f5",
   "metadata": {},
   "outputs": [],
   "source": [
    "btn.click()"
   ]
  },
  {
   "cell_type": "code",
   "execution_count": 5,
   "id": "f215800a",
   "metadata": {},
   "outputs": [],
   "source": [
    "#4 화면을 최하단으로 이동"
   ]
  },
  {
   "cell_type": "code",
   "execution_count": 32,
   "id": "718adb3a",
   "metadata": {},
   "outputs": [],
   "source": [
    "#5 뉴스 타이틀 추출,순수한 텍스트 정보 \n",
    "title=driver.find_elements(By.CSS_SELECTOR,\"div.news_wrap.api_ani_send > div > div.news_contents > a.news_tit\")"
   ]
  },
  {
   "cell_type": "code",
   "execution_count": 37,
   "id": "10174518",
   "metadata": {},
   "outputs": [],
   "source": [
    "title_list=[]\n",
    "for i in title:\n",
    "    title_list.append(i.text)"
   ]
  },
  {
   "cell_type": "code",
   "execution_count": 38,
   "id": "6742a9a5",
   "metadata": {},
   "outputs": [
    {
     "data": {
      "text/plain": [
       "['이강인, 런던 찾아 손흥민에 사과…\"절대로 해선 안될 행동했다\"',\n",
       " '\"이강인 잘했다, 역시 대흥민\"...누리꾼 \\'반색\\'',\n",
       " '손흥민 \"강인이가 좋은 선수로 성장하도록 보살필 것\" [전문]',\n",
       " '이강인, 손흥민 찾아가 직접 사과 “절대 해선 안 될 행동”',\n",
       " '이강인 \"손흥민 찾아가 사과…깊이 반성\"',\n",
       " '음바페, 이강인 생일에 SNS 남긴 메시지는…“생축, 마이 브로”',\n",
       " '“한국·PSG에 재앙” 佛보도에도…이강인, 웃으며 훈련',\n",
       " '“포위된 이강인, 한국·PSG 모두에 재앙”...프랑스 언론 분석은',\n",
       " '찾아간 이강인 받아준 손흥민',\n",
       " '\"성지순례 왔어요\"…5개월 전 \\'이강인 사주\\' 어땠길래']"
      ]
     },
     "execution_count": 38,
     "metadata": {},
     "output_type": "execute_result"
    }
   ],
   "source": [
    "title_list"
   ]
  },
  {
   "cell_type": "code",
   "execution_count": null,
   "id": "b646852c",
   "metadata": {},
   "outputs": [],
   "source": []
  }
 ],
 "metadata": {
  "kernelspec": {
   "display_name": "Python 3 (ipykernel)",
   "language": "python",
   "name": "python3"
  },
  "language_info": {
   "codemirror_mode": {
    "name": "ipython",
    "version": 3
   },
   "file_extension": ".py",
   "mimetype": "text/x-python",
   "name": "python",
   "nbconvert_exporter": "python",
   "pygments_lexer": "ipython3",
   "version": "3.11.5"
  }
 },
 "nbformat": 4,
 "nbformat_minor": 5
}
