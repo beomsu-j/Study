{
 "cells": [
  {
   "cell_type": "markdown",
   "id": "2664543c",
   "metadata": {},
   "source": [
    "# 1. Flask 사용하기\n"
   ]
  },
  {
   "cell_type": "markdown",
   "id": "ae16e3fc",
   "metadata": {},
   "source": [
    "## 1.1 필요한 라이브러리 설치"
   ]
  },
  {
   "cell_type": "code",
   "execution_count": 1,
   "id": "ca922812",
   "metadata": {
    "collapsed": true
   },
   "outputs": [
    {
     "name": "stdout",
     "output_type": "stream",
     "text": [
      "Requirement already satisfied: flask in c:\\users\\smhrd\\anaconda4\\lib\\site-packages (2.2.2)\n",
      "Requirement already satisfied: Werkzeug>=2.2.2 in c:\\users\\smhrd\\anaconda4\\lib\\site-packages (from flask) (2.2.3)\n",
      "Requirement already satisfied: Jinja2>=3.0 in c:\\users\\smhrd\\anaconda4\\lib\\site-packages (from flask) (3.1.2)\n",
      "Requirement already satisfied: itsdangerous>=2.0 in c:\\users\\smhrd\\anaconda4\\lib\\site-packages (from flask) (2.0.1)\n",
      "Requirement already satisfied: click>=8.0 in c:\\users\\smhrd\\anaconda4\\lib\\site-packages (from flask) (8.0.4)\n",
      "Requirement already satisfied: colorama in c:\\users\\smhrd\\anaconda4\\lib\\site-packages (from click>=8.0->flask) (0.4.6)\n",
      "Requirement already satisfied: MarkupSafe>=2.0 in c:\\users\\smhrd\\anaconda4\\lib\\site-packages (from Jinja2>=3.0->flask) (2.1.1)\n",
      "Collecting flask_cors\n",
      "  Obtaining dependency information for flask_cors from https://files.pythonhosted.org/packages/10/69/1e6cfb87117568a9de088c32d6258219e9d1ff7c131abf74249ef2031279/Flask_Cors-4.0.0-py2.py3-none-any.whl.metadata\n",
      "  Downloading Flask_Cors-4.0.0-py2.py3-none-any.whl.metadata (5.4 kB)\n",
      "Requirement already satisfied: Flask>=0.9 in c:\\users\\smhrd\\anaconda4\\lib\\site-packages (from flask_cors) (2.2.2)\n",
      "Requirement already satisfied: Werkzeug>=2.2.2 in c:\\users\\smhrd\\anaconda4\\lib\\site-packages (from Flask>=0.9->flask_cors) (2.2.3)\n",
      "Requirement already satisfied: Jinja2>=3.0 in c:\\users\\smhrd\\anaconda4\\lib\\site-packages (from Flask>=0.9->flask_cors) (3.1.2)\n",
      "Requirement already satisfied: itsdangerous>=2.0 in c:\\users\\smhrd\\anaconda4\\lib\\site-packages (from Flask>=0.9->flask_cors) (2.0.1)\n",
      "Requirement already satisfied: click>=8.0 in c:\\users\\smhrd\\anaconda4\\lib\\site-packages (from Flask>=0.9->flask_cors) (8.0.4)\n",
      "Requirement already satisfied: colorama in c:\\users\\smhrd\\anaconda4\\lib\\site-packages (from click>=8.0->Flask>=0.9->flask_cors) (0.4.6)\n",
      "Requirement already satisfied: MarkupSafe>=2.0 in c:\\users\\smhrd\\anaconda4\\lib\\site-packages (from Jinja2>=3.0->Flask>=0.9->flask_cors) (2.1.1)\n",
      "Downloading Flask_Cors-4.0.0-py2.py3-none-any.whl (14 kB)\n",
      "Installing collected packages: flask_cors\n",
      "Successfully installed flask_cors-4.0.0\n"
     ]
    }
   ],
   "source": [
    "!pip install flask\n",
    "!pip install flask_cors"
   ]
  },
  {
   "cell_type": "markdown",
   "id": "adb2de84",
   "metadata": {},
   "source": [
    "## 1.2 라이브러리 import"
   ]
  },
  {
   "cell_type": "code",
   "execution_count": 2,
   "id": "9a9569bb",
   "metadata": {},
   "outputs": [],
   "source": [
    "# Flask >> 서버를 생성해줄 도구\n",
    "# request >> 요청에 대한 정보를 가지고 았눈\n",
    "# make_resoinse() >> 응답 객체를 만들어줄때 사용하는 함수\n",
    "# redirect >> 이동해야하는 페이지가 있을 때\n",
    "# CORS >> 동일출처정책을 잡아주는 객체\n",
    "from flask import Flask, request\n",
    "from flask_cors import CORS"
   ]
  },
  {
   "cell_type": "markdown",
   "id": "a5ac47c6",
   "metadata": {},
   "source": [
    "## 1.3 Flask 서버 열어주기"
   ]
  },
  {
   "cell_type": "code",
   "execution_count": 25,
   "id": "c2e576db",
   "metadata": {},
   "outputs": [
    {
     "name": "stdout",
     "output_type": "stream",
     "text": [
      " * Serving Flask app '__main__'\n",
      " * Debug mode: off\n"
     ]
    },
    {
     "name": "stderr",
     "output_type": "stream",
     "text": [
      "WARNING: This is a development server. Do not use it in a production deployment. Use a production WSGI server instead.\n",
      " * Running on http://127.0.0.1:9000\n",
      "Press CTRL+C to quit\n",
      "127.0.0.1 - - [13/Mar/2024 16:49:57] \"GET /?name=한소희 HTTP/1.1\" 200 -\n",
      "127.0.0.1 - - [13/Mar/2024 16:50:39] \"GET /?name=한소희 HTTP/1.1\" 200 -\n",
      "127.0.0.1 - - [13/Mar/2024 17:16:27] \"GET /?name=한소희 HTTP/1.1\" 200 -\n",
      "127.0.0.1 - - [13/Mar/2024 17:17:34] \"GET /?name=한소희 HTTP/1.1\" 200 -\n",
      "127.0.0.1 - - [13/Mar/2024 17:18:53] \"GET /?name=한소희 HTTP/1.1\" 200 -\n"
     ]
    }
   ],
   "source": [
    "# Flask 객체(서버를 구동할 객체) 생성\n",
    "app = Flask(__name__)\n",
    "# CORS 허용\n",
    "CORS(app)\n",
    "\n",
    "# 라우터 생성\n",
    "@app.route(\"/\",methods=[\"GET\"])\n",
    "def test():\n",
    "    # 요청데이터 꺼내오기\n",
    "    # get방식일 때 데이터 꺼내오는 방법\n",
    "    name = request.args.get('name')\n",
    "    # post방식일때 데이터 깨내오기\n",
    "    #request.form.get('name값')\n",
    "    result = img_crawling(name)\n",
    "    # 비동기통신으로 요청이 들어왔을 때 돌려줄 데이터가 있다면\n",
    "    return result\n",
    "\n",
    "# app 설정 마무리\n",
    "if __name__==\"__main__\":\n",
    "    app.run(host=\"127.0.0.1\",port=\"9000\")"
   ]
  },
  {
   "cell_type": "markdown",
   "id": "d6e58abb",
   "metadata": {},
   "source": [
    "# 2. 크롤링 코드 작성하기"
   ]
  },
  {
   "cell_type": "markdown",
   "id": "6b15fbe5",
   "metadata": {},
   "source": [
    "## 2.1 필요한 라이브러리 가져오기"
   ]
  },
  {
   "cell_type": "code",
   "execution_count": 19,
   "id": "20b585c2",
   "metadata": {},
   "outputs": [],
   "source": [
    "from selenium import webdriver as wb\n",
    "from selenium.webdriver.common.by import By\n",
    "from selenium.webdriver.common.keys import Keys\n",
    "import time"
   ]
  },
  {
   "cell_type": "markdown",
   "id": "efbd756b",
   "metadata": {},
   "source": [
    "## 2.2 코드 작성하기"
   ]
  },
  {
   "cell_type": "code",
   "execution_count": 14,
   "id": "744810be",
   "metadata": {},
   "outputs": [],
   "source": [
    "# 네이버 페이지에서 한소희를 검색-> enter -> 이미지 탭 이동 -> 이미지 한개만 가져오기\n",
    "driver=wb.Chrome()\n",
    "driver.get(\"https://search.naver.com/search.naver?ssc=tab.image.all&where=image&sm=tab_jum&query=%ED%95%9C%EC%86%8C%ED%9D%AC\")\n",
    "img=driver.find_element(By.CSS_SELECTOR,\"#main_pack > section.sc_new.sp_nimage._fe_image_viewer_prepend_target > div.api_subject_bx._fe_image_tab_list_root.ani_fadein > div > div > div.image_tile._fe_image_tab_grid > div:nth-child(1) > div > div > div > img\")\n",
    "img"
   ]
  },
  {
   "cell_type": "code",
   "execution_count": 23,
   "id": "51a4e08d",
   "metadata": {},
   "outputs": [],
   "source": [
    "def img_crawling(name):\n",
    "    \n",
    "    driver=wb.Chrome()\n",
    "    driver.get(\"https://www.naver.com\")\n",
    "    \n",
    "    search=driver.find_element(By.CSS_SELECTOR,\"#query\")\n",
    "    search.send_keys(name)\n",
    "    search.send_keys(Keys.ENTER)\n",
    "    \n",
    "    tab=driver.find_element(By.CSS_SELECTOR,\"#lnb > div.lnb_group > div > div.lnb_nav_area._nav_area_root > div > div.api_flicking_wrap._conveyer_root > div:nth-child(1) > a\")\n",
    "    tab.click()\n",
    "  \n",
    "    time.sleep(0.5)\n",
    "    \n",
    "    img=driver.find_elements(By.CSS_SELECTOR,\"#main_pack > section.sc_new.sp_nimage._fe_image_viewer_prepend_target > div.api_subject_bx._fe_image_tab_list_root.ani_fadein > div > div > div.image_tile._fe_image_tab_grid > div > div > div > div > img\")\n",
    "    img\n",
    "\n",
    "    return img[10].get_attribute(\"src\")"
   ]
  },
  {
   "cell_type": "code",
   "execution_count": null,
   "id": "81e0061e",
   "metadata": {},
   "outputs": [],
   "source": []
  }
 ],
 "metadata": {
  "kernelspec": {
   "display_name": "Python 3 (ipykernel)",
   "language": "python",
   "name": "python3"
  },
  "language_info": {
   "codemirror_mode": {
    "name": "ipython",
    "version": 3
   },
   "file_extension": ".py",
   "mimetype": "text/x-python",
   "name": "python",
   "nbconvert_exporter": "python",
   "pygments_lexer": "ipython3",
   "version": "3.11.5"
  }
 },
 "nbformat": 4,
 "nbformat_minor": 5
}
